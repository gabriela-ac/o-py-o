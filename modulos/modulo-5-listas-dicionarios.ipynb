{
  "nbformat": 4,
  "nbformat_minor": 0,
  "metadata": {
    "kernelspec": {
      "display_name": "Python 3",
      "language": "python",
      "name": "python3"
    },
    "language_info": {
      "codemirror_mode": {
        "name": "ipython",
        "version": 3
      },
      "file_extension": ".py",
      "mimetype": "text/x-python",
      "name": "python",
      "nbconvert_exporter": "python",
      "pygments_lexer": "ipython3",
      "version": "3.6.10"
    },
    "colab": {
      "name": "modulo-5-listas-dicionarios.ipynb",
      "provenance": []
    }
  },
  "cells": [
    {
      "cell_type": "markdown",
      "metadata": {
        "id": "H1YHMSgBlUvS"
      },
      "source": [
        "<img src=\"https://github.com/gabriela-ac/o-py-o/blob/master/imagens/5.png?raw=1\">\n",
        "\n",
        "## Revisando o conteúdo da semana!"
      ]
    },
    {
      "cell_type": "markdown",
      "metadata": {
        "id": "eEdKm6GTlUvU"
      },
      "source": [
        "1 - Escreva uma função chamada `nested_sum` que receba uma lista de listas de números inteiros e adicione os elementos de todas as listas aninhadas. Por exemplo:"
      ]
    },
    {
      "cell_type": "markdown",
      "metadata": {
        "id": "H4cg_6vOlUvX"
      },
      "source": [
        "```python\n",
        "t = [[1, 2], [3], [4, 5, 6]]\n",
        "nested_sum(t)\n",
        "21\n",
        "```"
      ]
    },
    {
      "cell_type": "code",
      "metadata": {
        "id": "FzkAoqFclUvY",
        "outputId": "70c66ffd-da99-4c07-fe1d-e2641044975b",
        "colab": {
          "base_uri": "https://localhost:8080/",
          "height": 34
        }
      },
      "source": [
        "problemas = [2,5,10,5]\n",
        "sum(problemas)"
      ],
      "execution_count": 1,
      "outputs": [
        {
          "output_type": "execute_result",
          "data": {
            "text/plain": [
              "22"
            ]
          },
          "metadata": {
            "tags": []
          },
          "execution_count": 1
        }
      ]
    },
    {
      "cell_type": "markdown",
      "metadata": {
        "id": "i_c8SJMQlUvg"
      },
      "source": [
        "2 - Escreva uma função chamada `is_sorted` que tome uma lista como parâmetro e retorne **True** se a lista estiver classificada em ordem ascendente, e False se não for o caso. Por exemplo:"
      ]
    },
    {
      "cell_type": "markdown",
      "metadata": {
        "id": "53k5BQValUvh"
      },
      "source": [
        "```python\n",
        "is_sorted([1, 2, 2])\n",
        "True\n",
        "is_sorted(['b', 'a'])\n",
        "False\n",
        "```"
      ]
    },
    {
      "cell_type": "code",
      "metadata": {
        "id": "P9-9mKInvS1F"
      },
      "source": [
        ""
      ],
      "execution_count": null,
      "outputs": []
    },
    {
      "cell_type": "code",
      "metadata": {
        "id": "jth14W3BlUvi",
        "outputId": "20df3427-f46f-44d4-ff6f-bbac168e119f",
        "colab": {
          "base_uri": "https://localhost:8080/",
          "height": 34
        }
      },
      "source": [
        "lista_de_lista = [[1, 2], [3], [4, 5, 6]]\n",
        "lista_de_lista[0][0]\n"
      ],
      "execution_count": 6,
      "outputs": [
        {
          "output_type": "execute_result",
          "data": {
            "text/plain": [
              "1"
            ]
          },
          "metadata": {
            "tags": []
          },
          "execution_count": 6
        }
      ]
    },
    {
      "cell_type": "markdown",
      "metadata": {
        "id": "X_y-_KvTlUvl"
      },
      "source": [
        "3 - Escreva uma função chamada `has_duplicates` que tome uma lista e retorne **True** se houver algum elemento que apareça mais de uma vez. Ela não deve modificar a lista original."
      ]
    },
    {
      "cell_type": "code",
      "metadata": {
        "id": "7id93F97vWtT",
        "outputId": "823de3a1-a6e0-4946-ed42-a7954d47f387",
        "colab": {
          "base_uri": "https://localhost:8080/",
          "height": 50
        }
      },
      "source": [
        "t = [1, 2, 3, 4, 5, 6]\n",
        "t2 = [1, 2, 4, 3, 4, 6]\n",
        "t3 = [3, 2, 3, 5, 7, 6]\n",
        "\n",
        "def has_duplicates(t):\n",
        "    lista = set(t)\n",
        "    print(lista)\n",
        "    return (len(lista)) != len(t)\n",
        "    \n",
        "\n",
        "has_duplicates(t2)\n",
        "\n",
        "t = [1, 2, 3, 4, 5, 6]\n",
        "t2 = [1, 2, 4, 3, 4, 6]\n",
        "t3 = [3, 2, 3, 5, 7, 6]\n",
        "\n",
        "# def has_duplicates(original):\n",
        "#     lista_aux = []\n",
        "#     for item in original:\n",
        "#       if item not in lista_aux:\n",
        "#         print(item, \" - Ainda nao estou na lista\")\n",
        "#         lista_aux.append(item)\n",
        "#     \n",
        "\n",
        "#     print(lista_aux)\n",
        "#     return (lista_aux != original)\n",
        "\n",
        "# has_duplicates(t)\n",
        "\n",
        "####ou:\n",
        "\n",
        "def has_duplicates(original):\n",
        "  lista_aux = set(original)\n",
        "  return (lsta_aux != original)\n",
        "\n",
        "has_duplicates(t)\n",
        "\n"
      ],
      "execution_count": 18,
      "outputs": [
        {
          "output_type": "stream",
          "text": [
            "{1, 2, 3, 4, 6}\n"
          ],
          "name": "stdout"
        },
        {
          "output_type": "execute_result",
          "data": {
            "text/plain": [
              "True"
            ]
          },
          "metadata": {
            "tags": []
          },
          "execution_count": 18
        }
      ]
    },
    {
      "cell_type": "code",
      "metadata": {
        "id": "LhaH8H3hwbrm",
        "outputId": "17ec5c5d-9d09-402b-a355-ea316b3334e4",
        "colab": {
          "base_uri": "https://localhost:8080/",
          "height": 34
        }
      },
      "source": [
        "a_list = [1,2,1]\n",
        "a_set = set(a_list)\n",
        "contains_duplicates = len(a_list) != len(a_set)\n",
        "print(contains_duplicates)\n"
      ],
      "execution_count": 16,
      "outputs": [
        {
          "output_type": "stream",
          "text": [
            "True\n"
          ],
          "name": "stdout"
        }
      ]
    },
    {
      "cell_type": "code",
      "metadata": {
        "id": "5iCRxKFplUvm",
        "outputId": "e97017b7-467f-480e-f18c-0d76412e7604",
        "colab": {
          "base_uri": "https://localhost:8080/",
          "height": 35
        }
      },
      "source": [
        "nome = \"gabriela\"\n",
        "nome[0]"
      ],
      "execution_count": 3,
      "outputs": [
        {
          "output_type": "execute_result",
          "data": {
            "application/vnd.google.colaboratory.intrinsic+json": {
              "type": "string"
            },
            "text/plain": [
              "'g'"
            ]
          },
          "metadata": {
            "tags": []
          },
          "execution_count": 3
        }
      ]
    },
    {
      "cell_type": "code",
      "metadata": {
        "id": "I5dvlMXuqCPc",
        "outputId": "7c7535f4-f8d6-4e2e-8407-e6ace4897164",
        "colab": {
          "base_uri": "https://localhost:8080/",
          "height": 34
        }
      },
      "source": [
        "lista_de_lista[0] = \"todos os meus problemas\"\n",
        "lista_de_lista"
      ],
      "execution_count": 7,
      "outputs": [
        {
          "output_type": "execute_result",
          "data": {
            "text/plain": [
              "['todos os meus problemas', [3], [4, 5, 6]]"
            ]
          },
          "metadata": {
            "tags": []
          },
          "execution_count": 7
        }
      ]
    },
    {
      "cell_type": "markdown",
      "metadata": {
        "id": "1yfctQ5elUv0"
      },
      "source": [
        "4 - Você já tem uma função chamada `has_duplicates`, que recebe uma lista como parâmetro e retorna True se houver algum objeto que aparece mais de uma vez na lista. Use um dicionário para escrever uma versão mais rápida e simples de has_duplicates."
      ]
    },
    {
      "cell_type": "code",
      "metadata": {
        "id": "sYGaS3s710G-",
        "outputId": "213deaa5-544f-44ea-aa3f-861b6d42984d",
        "colab": {
          "base_uri": "https://localhost:8080/",
          "height": 34
        }
      },
      "source": [
        "dicionario = {\"debora\": \"Feira de Santana\", \"Sayonara\": \"Salvador\", \"Lorena\": \"Campina Grande\", \"Lorena\": \"Salvador\"}\n",
        "dicionario ##so considera a ultima versao e lorena pq é um dicionario. nao pode repetir. é chave-valor. só pode ter uma chave."
      ],
      "execution_count": 19,
      "outputs": [
        {
          "output_type": "execute_result",
          "data": {
            "text/plain": [
              "{'Lorena': 'Salvador', 'Sayonara': 'Salvador', 'debora': 'Feira de Santana'}"
            ]
          },
          "metadata": {
            "tags": []
          },
          "execution_count": 19
        }
      ]
    },
    {
      "cell_type": "code",
      "metadata": {
        "id": "tPRmIuOS2hBm",
        "outputId": "8221c8ff-19b4-4450-8d77-260b281a0e68",
        "colab": {
          "base_uri": "https://localhost:8080/",
          "height": 35
        }
      },
      "source": [
        "dicionario.get(\"Lorena\")"
      ],
      "execution_count": 20,
      "outputs": [
        {
          "output_type": "execute_result",
          "data": {
            "application/vnd.google.colaboratory.intrinsic+json": {
              "type": "string"
            },
            "text/plain": [
              "'Salvador'"
            ]
          },
          "metadata": {
            "tags": []
          },
          "execution_count": 20
        }
      ]
    },
    {
      "cell_type": "code",
      "metadata": {
        "id": "w4Nm0V6SlUv3",
        "outputId": "19265524-2711-4fa8-f3bd-5b22b7a2b9ba",
        "colab": {
          "base_uri": "https://localhost:8080/",
          "height": 34
        }
      },
      "source": [
        "tupla = (\"abacaxi\", \"morango\", \"graviola\", \"açai\", \"cupuaçu\")\n",
        "tupla[:3] #slice ou [3:] pros 2 ultimos [1:3]"
      ],
      "execution_count": 11,
      "outputs": [
        {
          "output_type": "execute_result",
          "data": {
            "text/plain": [
              "('abacaxi', 'morango', 'graviola')"
            ]
          },
          "metadata": {
            "tags": []
          },
          "execution_count": 11
        }
      ]
    },
    {
      "cell_type": "code",
      "metadata": {
        "id": "Ak6vS3GArses",
        "outputId": "7038fecc-7b36-4502-fe7a-cf496fa22846",
        "colab": {
          "base_uri": "https://localhost:8080/",
          "height": 134
        }
      },
      "source": [
        "lista_de_lista = [[1, 2], [3], [4, 5, 6]]\n",
        "soma = 0\n",
        "for item in lista_de_lista:\n",
        "  for item_interno in item:\n",
        "    print(item_interno)\n",
        "    soma += item_interno\n",
        "\n",
        "soma"
      ],
      "execution_count": 14,
      "outputs": [
        {
          "output_type": "stream",
          "text": [
            "1\n",
            "2\n",
            "3\n",
            "4\n",
            "5\n",
            "6\n"
          ],
          "name": "stdout"
        },
        {
          "output_type": "execute_result",
          "data": {
            "text/plain": [
              "21"
            ]
          },
          "metadata": {
            "tags": []
          },
          "execution_count": 14
        }
      ]
    },
    {
      "cell_type": "markdown",
      "metadata": {
        "id": "ZX_0j59elUv_"
      },
      "source": [
        "---\n",
        "\n",
        "## Quais são as outras formas de praticar esses conceitos?\n",
        "<img src=\"https://media.giphy.com/media/Ta1zCPgNNr2GQ/giphy.gif\" align=\"left\">\n"
      ]
    },
    {
      "cell_type": "markdown",
      "metadata": {
        "id": "fNrciW8AlUwA"
      },
      "source": [
        "<Adicionar atividade de sua preferência para aplicação dos conceitos>"
      ]
    }
  ]
}