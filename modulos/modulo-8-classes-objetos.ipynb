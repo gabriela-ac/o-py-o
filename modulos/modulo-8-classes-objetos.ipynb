{
  "nbformat": 4,
  "nbformat_minor": 0,
  "metadata": {
    "kernelspec": {
      "display_name": "Python 3",
      "language": "python",
      "name": "python3"
    },
    "language_info": {
      "codemirror_mode": {
        "name": "ipython",
        "version": 3
      },
      "file_extension": ".py",
      "mimetype": "text/x-python",
      "name": "python",
      "nbconvert_exporter": "python",
      "pygments_lexer": "ipython3",
      "version": "3.6.10"
    },
    "colab": {
      "name": "modulo-8-classes-objetos.ipynb",
      "provenance": []
    }
  },
  "cells": [
    {
      "cell_type": "markdown",
      "metadata": {
        "id": "kiDz66tmNfij"
      },
      "source": [
        "<img src=\"https://github.com/gabriela-ac/o-py-o/blob/master/imagens/8.png?raw=1\">\n",
        "\n",
        "## Revisando o conteúdo da semana!"
      ]
    },
    {
      "cell_type": "markdown",
      "metadata": {
        "id": "1YUnHNRhNfik"
      },
      "source": [
        "1 - Escreva uma definição para uma classe denominada `Circle`, com os atributos center e radius, onde center é um objeto `Point` e radius é um número."
      ]
    },
    {
      "cell_type": "code",
      "metadata": {
        "id": "WMdVyxH4Nfil"
      },
      "source": [
        "class Point:\n",
        "  def __init__(self, x, y):\n",
        "    self.x = x\n",
        "    self.y = y\n",
        "\n",
        "  def __str__(self):\n",
        "    return 'Point: {0} - {1}'.format(self.x, self.y)\n",
        "\n",
        "class Circle:\n",
        "  def __init__(self, center, radius, cor=\"FFFFFF\"):\n",
        "    self.center = center\n",
        "    self.radius = radius\n",
        "    self.cor = cor\n",
        "\n",
        "  def __str__(self):\n",
        "    return 'Circle: {0} - {1} - {2}'.format(self.center, self.radius, self.cor)"
      ],
      "execution_count": 43,
      "outputs": []
    },
    {
      "cell_type": "code",
      "metadata": {
        "id": "MJzcYki04Nbc",
        "outputId": "e5146d33-46df-411d-b156-58e90bd7d080",
        "colab": {
          "base_uri": "https://localhost:8080/"
        }
      },
      "source": [
        "circle = Circle(Point(4, 5), 8.8, \"EEEEEE\")\n",
        "print(circle)"
      ],
      "execution_count": 45,
      "outputs": [
        {
          "output_type": "stream",
          "text": [
            "Circle: Point: 4 - 5 - 8.8 - EEEEEE\n"
          ],
          "name": "stdout"
        }
      ]
    },
    {
      "cell_type": "code",
      "metadata": {
        "id": "46pGa4cO5cTu",
        "outputId": "902992d6-adb9-4beb-db7f-64b55f5682f3",
        "colab": {
          "base_uri": "https://localhost:8080/"
        }
      },
      "source": [
        "circle.center.x"
      ],
      "execution_count": 46,
      "outputs": [
        {
          "output_type": "execute_result",
          "data": {
            "text/plain": [
              "4"
            ]
          },
          "metadata": {
            "tags": []
          },
          "execution_count": 46
        }
      ]
    },
    {
      "cell_type": "code",
      "metadata": {
        "id": "aS9-5tdUy7X8",
        "outputId": "cae52b1c-1244-4b62-8274-fbd5c745085d",
        "colab": {
          "base_uri": "https://localhost:8080/"
        }
      },
      "source": [
        "circle = Circle()\n",
        "type(circle)"
      ],
      "execution_count": 23,
      "outputs": [
        {
          "output_type": "execute_result",
          "data": {
            "text/plain": [
              "__main__.Circle"
            ]
          },
          "metadata": {
            "tags": []
          },
          "execution_count": 23
        }
      ]
    },
    {
      "cell_type": "code",
      "metadata": {
        "id": "lLOyGAvJyrGW",
        "outputId": "309a7040-657d-4051-cf09-397a645abe31",
        "colab": {
          "base_uri": "https://localhost:8080/"
        }
      },
      "source": [
        "circle.center"
      ],
      "execution_count": 24,
      "outputs": [
        {
          "output_type": "execute_result",
          "data": {
            "text/plain": [
              "<__main__.Point at 0x7fd5c248e550>"
            ]
          },
          "metadata": {
            "tags": []
          },
          "execution_count": 24
        }
      ]
    },
    {
      "cell_type": "code",
      "metadata": {
        "id": "lYsE0POpyrSk",
        "outputId": "7705ad60-fa95-4052-ff9d-917f91312408",
        "colab": {
          "base_uri": "https://localhost:8080/"
        }
      },
      "source": [
        "circle.center.x = 5\n",
        "circle.center.y = 10\n",
        "circle.radius = 2\n",
        "print(circle)\n"
      ],
      "execution_count": 49,
      "outputs": [
        {
          "output_type": "stream",
          "text": [
            "Circle: Point: 5 - 10 - 2 - EEEEEE\n"
          ],
          "name": "stdout"
        }
      ]
    },
    {
      "cell_type": "code",
      "metadata": {
        "id": "gGBdiH1Ky8fG"
      },
      "source": [
        "def print_point(blank):\n",
        "   print('(%g, %g, %g)' % (blank.center.x, blank.center.y, blank.radius))"
      ],
      "execution_count": 50,
      "outputs": []
    },
    {
      "cell_type": "code",
      "metadata": {
        "id": "BW07LeW1-LRf",
        "outputId": "67d5daf3-c071-4c04-998d-a650f5993307",
        "colab": {
          "base_uri": "https://localhost:8080/"
        }
      },
      "source": [
        "print_point(circle)"
      ],
      "execution_count": 51,
      "outputs": [
        {
          "output_type": "stream",
          "text": [
            "(5, 10, 2)\n"
          ],
          "name": "stdout"
        }
      ]
    },
    {
      "cell_type": "markdown",
      "metadata": {
        "id": "Z_NO7ALUvpsM"
      },
      "source": [
        ""
      ]
    },
    {
      "cell_type": "markdown",
      "metadata": {
        "id": "joC22rMZNfiq"
      },
      "source": [
        "a) Instancie um objeto `Circle`, que represente um círculo com o centro em 150, 100 e raio 75."
      ]
    },
    {
      "cell_type": "code",
      "metadata": {
        "id": "hXytn_uvNfir",
        "outputId": "8cdbe509-da93-4b6c-f87f-4682a9be3c3c",
        "colab": {
          "base_uri": "https://localhost:8080/"
        }
      },
      "source": [
        "new_circle = Circle(radius=75, center=Point(150, 100))\n",
        "print(new_circle)"
      ],
      "execution_count": 54,
      "outputs": [
        {
          "output_type": "stream",
          "text": [
            "Circle: Point: 150 - 100 - 75 - FFFFFF\n"
          ],
          "name": "stdout"
        }
      ]
    },
    {
      "cell_type": "markdown",
      "metadata": {
        "id": "jOgDp8I-Nfit"
      },
      "source": [
        "b) Escreva uma função denominada `point_in_circle`, que tome um `Circle` e um `Point` e retorne **True**, se o ponto estiver dentro ou no limite do círculo."
      ]
    },
    {
      "cell_type": "code",
      "metadata": {
        "id": "LMVwdHxLNfiu"
      },
      "source": [
        "import math\n",
        "\n",
        "def distance_between_points(p1, p2):\n",
        "  dx = p1.x - p2.x\n",
        "  dy = p1.y - p2.y\n",
        "  dist = math.sqrt(dx**2 + dy**2)\n",
        "  return dist\n",
        "\n",
        "def point_in_circle(circle, point):\n",
        "  distance = distance_between_points(circle.center, point)\n",
        "  return True if distance <= circle.radius else False\n",
        "\n",
        "\n",
        "c = Circle(Point(0, 0), 10)\n",
        "p_in = Point(5,5)\n",
        "p_out = Point(12, 15)\n",
        "\n"
      ],
      "execution_count": 63,
      "outputs": []
    },
    {
      "cell_type": "code",
      "metadata": {
        "id": "6FZpr2NXBVfv",
        "outputId": "1ca70397-c3f5-447e-f4ba-3437e5f511c8",
        "colab": {
          "base_uri": "https://localhost:8080/"
        }
      },
      "source": [
        "point_in_circle(c, p_in)"
      ],
      "execution_count": 64,
      "outputs": [
        {
          "output_type": "execute_result",
          "data": {
            "text/plain": [
              "True"
            ]
          },
          "metadata": {
            "tags": []
          },
          "execution_count": 64
        }
      ]
    },
    {
      "cell_type": "code",
      "metadata": {
        "id": "A-wrivTZBmem",
        "outputId": "a031fada-8d01-48af-f64e-cae5d6c8d02e",
        "colab": {
          "base_uri": "https://localhost:8080/"
        }
      },
      "source": [
        "point_in_circle(c, p_out)"
      ],
      "execution_count": 65,
      "outputs": [
        {
          "output_type": "execute_result",
          "data": {
            "text/plain": [
              "False"
            ]
          },
          "metadata": {
            "tags": []
          },
          "execution_count": 65
        }
      ]
    },
    {
      "cell_type": "markdown",
      "metadata": {
        "id": "tZ4TdqqxNfiy"
      },
      "source": [
        "c) Escreva uma função chamada `rect_in_circle`, que tome um `Circle` e um `Rectangle` e retorne **True**, se o retângulo estiver totalmente dentro ou no limite do círculo."
      ]
    },
    {
      "cell_type": "code",
      "metadata": {
        "id": "VB4fQcJoNfiz"
      },
      "source": [
        "# def rect_in_circle(rect, circle):\n",
        "#     \"\"\"Checks whether the corners of a rect fall in/on a circle.\n",
        "#     rect: Rectangle object\n",
        "#     circle: Circle object\n",
        "#     \"\"\"\n",
        "#     p = copy.copy(rect.corner)\n",
        "#     print_point(p)\n",
        "#     if not point_in_circle(p, circle):\n",
        "#         return False\n",
        "\n",
        "#     p.x += rect.width\n",
        "#     print_point(p)\n",
        "#     if not point_in_circle(p, circle):\n",
        "#         return False\n",
        "\n",
        "#     p.y -= rect.height\n",
        "#     print_point(p)\n",
        "#     if not point_in_circle(p, circle):\n",
        "#         return False\n",
        "\n",
        "#     p.x -= rect.width\n",
        "#     print_point(p)\n",
        "#     if not point_in_circle(p, circle):\n",
        "#         return False\n",
        "\n",
        "#     return True"
      ],
      "execution_count": null,
      "outputs": []
    },
    {
      "cell_type": "markdown",
      "metadata": {
        "id": "I6KRdnc1Nfi2"
      },
      "source": [
        "---    \n",
        "    \n",
        "## Quais são as outras formas de praticar esses conceitos?\n",
        "\n",
        "<img src=\"https://media.giphy.com/media/3tMtwqIQXavnsxEltY/giphy.gif\" align=\"left\">"
      ]
    },
    {
      "cell_type": "markdown",
      "metadata": {
        "id": "vgXuaxIwNfi3"
      },
      "source": [
        "<Adicionar atividade de sua preferência para aplicação dos conceitos>"
      ]
    }
  ]
}