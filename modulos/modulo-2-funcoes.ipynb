{
  "nbformat": 4,
  "nbformat_minor": 0,
  "metadata": {
    "kernelspec": {
      "display_name": "Python 3",
      "language": "python",
      "name": "python3"
    },
    "language_info": {
      "codemirror_mode": {
        "name": "ipython",
        "version": 3
      },
      "file_extension": ".py",
      "mimetype": "text/x-python",
      "name": "python",
      "nbconvert_exporter": "python",
      "pygments_lexer": "ipython3",
      "version": "3.6.10"
    },
    "colab": {
      "name": "modulo-2-funcoes.ipynb",
      "provenance": []
    }
  },
  "cells": [
    {
      "cell_type": "markdown",
      "metadata": {
        "id": "ln71LG075WlO",
        "colab_type": "text"
      },
      "source": [
        "<img src=\"https://github.com/gabriela-ac/o-py-o/blob/master/imagens/2.png?raw=1\">\n",
        "\n",
        "## Revisando o conteúdo da semana!"
      ]
    },
    {
      "cell_type": "markdown",
      "metadata": {
        "id": "fwVhDZPT5WlP",
        "colab_type": "text"
      },
      "source": [
        "1 - Um objeto de função é um valor que pode ser atribuído a uma variável ou passado como argumento. Por exemplo, do_twice é uma função que toma um objeto de função como argumento e o chama duas vezes:"
      ]
    },
    {
      "cell_type": "code",
      "metadata": {
        "id": "2Kf-9TVR5WlQ",
        "colab_type": "code",
        "colab": {}
      },
      "source": [
        "def do_twice(f):\n",
        "    f()\n",
        "    f()"
      ],
      "execution_count": 21,
      "outputs": []
    },
    {
      "cell_type": "markdown",
      "metadata": {
        "id": "Ff8DPJZa5WlT",
        "colab_type": "text"
      },
      "source": [
        "Aqui está um exemplo que usa do_twice para chamar uma função chamada print_spam duas vezes:"
      ]
    },
    {
      "cell_type": "code",
      "metadata": {
        "id": "gKC1kW975WlT",
        "colab_type": "code",
        "colab": {}
      },
      "source": [
        "def print_spam():\n",
        "    print('spam')"
      ],
      "execution_count": 22,
      "outputs": []
    },
    {
      "cell_type": "code",
      "metadata": {
        "id": "f_zhJ5vM5WlW",
        "colab_type": "code",
        "colab": {
          "base_uri": "https://localhost:8080/",
          "height": 50
        },
        "outputId": "cf1c1146-2e41-4a7d-89cb-796876904542"
      },
      "source": [
        "do_twice(print_spam)"
      ],
      "execution_count": 23,
      "outputs": [
        {
          "output_type": "stream",
          "text": [
            "spam\n",
            "spam\n"
          ],
          "name": "stdout"
        }
      ]
    },
    {
      "cell_type": "markdown",
      "metadata": {
        "id": "Dx3lSHd15WlZ",
        "colab_type": "text"
      },
      "source": [
        "a) Altere `do_twice` para que receba dois argumentos, um objeto de função e um valor, e chame a função duas vezes, passando o valor como um argumento."
      ]
    },
    {
      "cell_type": "code",
      "metadata": {
        "id": "YzuytcmY5WlZ",
        "colab_type": "code",
        "colab": {}
      },
      "source": [
        "def do_twice(func,arg):\n",
        "    func(arg)\n",
        "    func(arg)"
      ],
      "execution_count": 19,
      "outputs": []
    },
    {
      "cell_type": "markdown",
      "metadata": {
        "id": "xMXidRfH5Wlb",
        "colab_type": "text"
      },
      "source": [
        "b) Use a versão alterada de `do_twice` para chamar `print_twice` duas vezes, passando 'spam' como um argumento."
      ]
    },
    {
      "cell_type": "code",
      "metadata": {
        "id": "7U-Xlx6D5Wlc",
        "colab_type": "code",
        "colab": {
          "base_uri": "https://localhost:8080/",
          "height": 50
        },
        "outputId": "2b8aacca-3ee5-4950-cc28-26a01b27583e"
      },
      "source": [
        "def print_twice(arg):\n",
        "    print(arg)\n",
        "    print(arg)\n",
        "\n",
        "print_twice('spam')"
      ],
      "execution_count": 17,
      "outputs": [
        {
          "output_type": "stream",
          "text": [
            "spam\n",
            "spam\n"
          ],
          "name": "stdout"
        }
      ]
    },
    {
      "cell_type": "markdown",
      "metadata": {
        "id": "G352kHA05Wle",
        "colab_type": "text"
      },
      "source": [
        "c) Defina uma função nova chamada `do_four` que receba um objeto de função e um valor e chame a função quatro vezes, passando o valor como um parâmetro. Deve haver só duas afirmações no corpo desta função, não quatro."
      ]
    },
    {
      "cell_type": "code",
      "metadata": {
        "id": "A6op42Yf5Wlf",
        "colab_type": "code",
        "colab": {
          "base_uri": "https://localhost:8080/",
          "height": 134
        },
        "outputId": "0b6ccf14-f219-4128-b39f-3e468dfb8c13"
      },
      "source": [
        "def do_four(func,arg):\n",
        "  do_twice(func,arg)\n",
        "  do_twice(func,arg)\n",
        "\n",
        "do_twice(print,'spam')\n",
        "print('')\n",
        "\n",
        "do_four(print,'spam')"
      ],
      "execution_count": 20,
      "outputs": [
        {
          "output_type": "stream",
          "text": [
            "spam\n",
            "spam\n",
            "\n",
            "spam\n",
            "spam\n",
            "spam\n",
            "spam\n"
          ],
          "name": "stdout"
        }
      ]
    },
    {
      "cell_type": "markdown",
      "metadata": {
        "id": "Xl4vG-rI5Wlh",
        "colab_type": "text"
      },
      "source": [
        "2 - Escreva uma função que desenhe uma grade como a seguinte:"
      ]
    },
    {
      "cell_type": "code",
      "metadata": {
        "id": "bNHnACRc5Wli",
        "colab_type": "code",
        "colab": {}
      },
      "source": [
        "+ - - - - + - - - - +\n",
        "|         |         |\n",
        "|         |         |\n",
        "|         |         |\n",
        "|         |         |\n",
        "+ - - - - + - - - - +\n",
        "|         |         |\n",
        "|         |         |\n",
        "|         |         |\n",
        "|         |         |\n",
        "+ - - - - + - - - - +"
      ],
      "execution_count": null,
      "outputs": []
    },
    {
      "cell_type": "markdown",
      "metadata": {
        "id": "VTgGPeP85Wlk",
        "colab_type": "text"
      },
      "source": [
        "Dica: para exibir mais de um valor em uma linha, podemos usar uma sequência de valores separados por vírgula:"
      ]
    },
    {
      "cell_type": "code",
      "metadata": {
        "id": "L5nLPdjU5Wll",
        "colab_type": "code",
        "colab": {}
      },
      "source": [
        "print('+', '-')"
      ],
      "execution_count": null,
      "outputs": []
    },
    {
      "cell_type": "markdown",
      "metadata": {
        "id": "e15FtYt45Wlp",
        "colab_type": "text"
      },
      "source": [
        "*Comentário:*\n",
        "Por padrão, print avança para a linha seguinte, mas podemos ignorar esse comportamento e inserir um espaço no fim, desta forma:"
      ]
    },
    {
      "cell_type": "code",
      "metadata": {
        "id": "ydfjnbey5Wlp",
        "colab_type": "code",
        "colab": {}
      },
      "source": [
        "print('+', end=' ')\n",
        "print('-')"
      ],
      "execution_count": null,
      "outputs": []
    },
    {
      "cell_type": "markdown",
      "metadata": {
        "id": "BdCkPLW_5Wls",
        "colab_type": "text"
      },
      "source": [
        "3 - Um número a é uma potência de b se for divisível por b e a/b for uma potência de b. Escreva uma função chamada `is_power` que receba os parâmetros a e b e retorne True se a for uma potência de b."
      ]
    },
    {
      "cell_type": "code",
      "metadata": {
        "id": "c0GAnKFy5Wls",
        "colab_type": "code",
        "colab": {}
      },
      "source": [
        ""
      ],
      "execution_count": null,
      "outputs": []
    },
    {
      "cell_type": "markdown",
      "metadata": {
        "id": "qVE_NNnQ5Wlw",
        "colab_type": "text"
      },
      "source": [
        "---\n",
        "\n",
        "## Quais são as outras formas de praticar esses conceitos?\n",
        "\n",
        "<img src=\"https://media1.tenor.com/images/325243df1673b884f9a044797c1cfd00/tenor.gif\" align=\"left\">"
      ]
    },
    {
      "cell_type": "markdown",
      "metadata": {
        "id": "rIKm2kwx5Wlw",
        "colab_type": "text"
      },
      "source": [
        "<Adicionar atividade de sua preferência para aplicação dos conceitos>"
      ]
    },
    {
      "cell_type": "code",
      "metadata": {
        "id": "u-GLMCCkAyer",
        "colab_type": "code",
        "colab": {
          "base_uri": "https://localhost:8080/",
          "height": 84
        },
        "outputId": "58bcdd57-29cc-4a42-855d-f693574257a7"
      },
      "source": [
        "def repeat_lyrics():\n",
        "    print_lyrics()\n",
        "    print_lyrics()\n",
        "\n",
        "def print_lyrics():\n",
        "    print(\"I'm a lumberjack, and I'm okay.\")\n",
        "    print(\"I sleep all night and I work all day.\")\n",
        "\n",
        "\n",
        "\n",
        "repeat_lyrics()"
      ],
      "execution_count": 4,
      "outputs": [
        {
          "output_type": "stream",
          "text": [
            "I'm a lumberjack, and I'm okay.\n",
            "I sleep all night and I work all day.\n",
            "I'm a lumberjack, and I'm okay.\n",
            "I sleep all night and I work all day.\n"
          ],
          "name": "stdout"
        }
      ]
    },
    {
      "cell_type": "code",
      "metadata": {
        "id": "JmIENbrtBSxD",
        "colab_type": "code",
        "colab": {
          "base_uri": "https://localhost:8080/",
          "height": 50
        },
        "outputId": "d388e21d-46e2-4df0-f7e9-046fd4524bd2"
      },
      "source": [
        "def print_twice(bruce):\n",
        "    print(bruce)\n",
        "    print(bruce)\n",
        "\n",
        "print_twice(42)"
      ],
      "execution_count": 8,
      "outputs": [
        {
          "output_type": "stream",
          "text": [
            "42\n",
            "42\n"
          ],
          "name": "stdout"
        }
      ]
    },
    {
      "cell_type": "code",
      "metadata": {
        "id": "NwTfMKBeEOE5",
        "colab_type": "code",
        "colab": {
          "base_uri": "https://localhost:8080/",
          "height": 34
        },
        "outputId": "f3897ed8-21d5-43cd-929b-0daf3da718de"
      },
      "source": [
        "import math\n",
        "math.cos(math.pi)\n"
      ],
      "execution_count": 11,
      "outputs": [
        {
          "output_type": "execute_result",
          "data": {
            "text/plain": [
              "-1.0"
            ]
          },
          "metadata": {
            "tags": []
          },
          "execution_count": 11
        }
      ]
    },
    {
      "cell_type": "code",
      "metadata": {
        "id": "U8kO-aYEFY7P",
        "colab_type": "code",
        "colab": {
          "base_uri": "https://localhost:8080/",
          "height": 50
        },
        "outputId": "ca20e33f-d7f4-4c48-84c2-7ac5c73d720f"
      },
      "source": [
        "def cat_twice(part1, part2):\n",
        "    cat = part1 + part2\n",
        "    print_twice(cat)\n",
        "\n",
        "line1 = 'Bing tiddle '\n",
        "line2 = 'tiddle bang.'\n",
        "cat_twice(line1, line2)"
      ],
      "execution_count": 13,
      "outputs": [
        {
          "output_type": "stream",
          "text": [
            "Bing tiddle tiddle bang.\n",
            "Bing tiddle tiddle bang.\n"
          ],
          "name": "stdout"
        }
      ]
    },
    {
      "cell_type": "code",
      "metadata": {
        "id": "-RCIxUi0X5fq",
        "colab_type": "code",
        "colab": {}
      },
      "source": [
        "def do_twice(f,param):\n",
        "    f(param)\n",
        "    f(param)\n",
        "\n"
      ],
      "execution_count": null,
      "outputs": []
    },
    {
      "cell_type": "markdown",
      "metadata": {
        "id": "PJelIGuTiQVk",
        "colab_type": "text"
      },
      "source": [
        "Entrar com dois horários\n",
        "entre com as horas - 08\n",
        "entre com os minutos - 30\n",
        "\n",
        "entre com as horas - 08\n",
        "entre com os minutos - 30\n",
        "\n",
        "X horas de diferença\n",
        "X minutos de diferença\n",
        "X segundos de diferença\n"
      ]
    },
    {
      "cell_type": "code",
      "metadata": {
        "id": "UB9c20JLirHV",
        "colab_type": "code",
        "colab": {
          "base_uri": "https://localhost:8080/",
          "height": 134
        },
        "outputId": "e384dc5b-2ada-42d4-f680-454542010fc8"
      },
      "source": [
        "def converte_em_minutos(h,m):\n",
        "  minutos = h*60\n",
        "  minutos = minutos + m\n",
        "  return minutos\n",
        "\n",
        "def converte_em_segundos(h,m):\n",
        "  segundos = h*3600\n",
        "  minutos = segundos + (m*60)\n",
        "  return minutos\n",
        "\n",
        "\n",
        "\n",
        "hora1 = int(input('Digite a hora 1: '))\n",
        "minuto1 = int(input('Digite o minuto 1: '))\n",
        "\n",
        "hora2 = int(input('Digite a hora 2: '))\n",
        "minuto2 = int(input('Digite o minuto 2: '))\n",
        "\n",
        "print(hora2-hora1, 'horas de diferença')\n",
        "print(converte_em_minutos(hora2, minuto2) - converte_em_minutos(hora1,minuto1), 'minutos de diferença')\n",
        "print(converte_em_segundos(hora2, minuto2) - converte_em_segundos(hora1,minuto1), 'segundos de diferença')"
      ],
      "execution_count": 27,
      "outputs": [
        {
          "output_type": "stream",
          "text": [
            "Digite a hora 1: 8\n",
            "Digite o minuto 1: 30\n",
            "Digite a hora 2: 17\n",
            "Digite o minuto 2: 22\n",
            "9 horas de diferença\n",
            "532 minutos de diferença\n",
            "31920 segundos de diferença\n"
          ],
          "name": "stdout"
        }
      ]
    }
  ]
}