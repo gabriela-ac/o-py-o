{
  "nbformat": 4,
  "nbformat_minor": 0,
  "metadata": {
    "kernelspec": {
      "display_name": "Python 3",
      "language": "python",
      "name": "python3"
    },
    "language_info": {
      "codemirror_mode": {
        "name": "ipython",
        "version": 3
      },
      "file_extension": ".py",
      "mimetype": "text/x-python",
      "name": "python",
      "nbconvert_exporter": "python",
      "pygments_lexer": "ipython3",
      "version": "3.6.10"
    },
    "colab": {
      "name": "modulo-3-condicional.ipynb",
      "provenance": []
    }
  },
  "cells": [
    {
      "cell_type": "markdown",
      "metadata": {
        "id": "_1e6ZhVHcSYY"
      },
      "source": [
        "<img src=\"https://github.com/gabriela-ac/o-py-o/blob/master/imagens/3.png?raw=1\">\n",
        "\n",
        "## Revisando o conteúdo da semana!"
      ]
    },
    {
      "cell_type": "markdown",
      "metadata": {
        "id": "JAMIDKLrcSYZ"
      },
      "source": [
        "1 - O módulo time fornece uma função, também chamada time, que devolve a Hora Média de Greenwich na “época”, que é um momento arbitrário usado como ponto de referência. Em sistemas UNIX, a época é primeiro de janeiro de 1970."
      ]
    },
    {
      "cell_type": "code",
      "metadata": {
        "id": "C--KJbcBcSYa"
      },
      "source": [
        "import time"
      ],
      "execution_count": null,
      "outputs": []
    },
    {
      "cell_type": "code",
      "metadata": {
        "id": "OZGi-eQYcSYd"
      },
      "source": [
        "time.time()"
      ],
      "execution_count": null,
      "outputs": []
    },
    {
      "cell_type": "markdown",
      "metadata": {
        "id": "5sNI6YDdcSYg"
      },
      "source": [
        "Escreva um script que leia a hora atual e a converta em um tempo em horas, minutos e segundos, mais o número de dias desde a época."
      ]
    },
    {
      "cell_type": "code",
      "metadata": {
        "id": "jFRi_NPtcSYg"
      },
      "source": [
        "print (time.strftime(\"%d/%m/%Y\"))\n",
        "print (time.strftime(\"%c \\n\"))\n",
        "\n",
        "segundos = time.time()\n",
        "\n",
        "dias = segundos // 86400\n",
        "segundos_rest = segundos % 86400\n",
        "horas = segundos_rest // 3600\n",
        "segundos_rest = segundos_rest % 3600\n",
        "minutos = segundos_rest // 60\n",
        "segundos_rest = segundos_rest % 60\n",
        "\n",
        "print(dias,\"dias,\",horas,\"horas,\",minutos,\"minutos e\",segundos_rest,\"segundos.\")"
      ],
      "execution_count": null,
      "outputs": []
    },
    {
      "cell_type": "markdown",
      "metadata": {
        "id": "lGpZxfnWcSYk"
      },
      "source": [
        "2 - O último teorema de Fermat diz que não existem números inteiros a, b e c tais que `a**n + b**n == c**n` para quaisquer valores de n maiores que 2."
      ]
    },
    {
      "cell_type": "markdown",
      "metadata": {
        "id": "iftPIxaScSYk"
      },
      "source": [
        "a) Escreva uma função chamada check_fermat que receba quatro parâmetros – a, b, c e n – e verifique se o teorema de Fermat se mantém. Se n for maior que 2 e `a**n + b**n == c**n` o programa deve imprimir, **“Holy smokes, Fermat was wrong!”** Senão o programa deve exibir **“No, that doesn’t work.”**"
      ]
    },
    {
      "cell_type": "code",
      "metadata": {
        "id": "ozy_sxekcSYl"
      },
      "source": [
        "def check_fermat(a,b,c,n):\n",
        "  if (n > 2 and a**n + b**n == c**n):\n",
        "    print ('Holy smokes, Fermat was wrong')\n",
        "  else:\n",
        "    print ('No, that doesn’t work.')\n",
        "\n",
        "check_fermat(3,4,5,3)\n",
        "check_fermat(3,4,5,2)"
      ],
      "execution_count": null,
      "outputs": []
    },
    {
      "cell_type": "markdown",
      "metadata": {
        "id": "Yc8bzOrTcSYn"
      },
      "source": [
        "3 - Se você tiver três gravetos, pode ser que consiga arranjá-los em um triângulo ou não. Por exemplo, se um dos gravetos tiver 12 polegadas de comprimento e outros dois tiverem uma polegada de comprimento, não será possível fazer com que os gravetos curtos se encontrem no meio. Há um teste simples para ver se é possível formar um triângulo para quaisquer três comprimentos:\n",
        "\n",
        "Se algum dos três comprimentos for maior que a soma dos outros dois, então você não pode formar um triângulo. Senão, você pode. (Se a soma de dois comprimentos igualar o terceiro, eles formam um triângulo chamado “degenerado”.)"
      ]
    },
    {
      "cell_type": "markdown",
      "metadata": {
        "id": "wakDouJ1cSYo"
      },
      "source": [
        "a) Escreva uma função chamada `is_triangle` que receba três números inteiros como argumentos, e que imprima “Yes” ou “No”, dependendo da possibilidade de formar ou não um triângulo de gravetos com os comprimentos dados."
      ]
    },
    {
      "cell_type": "code",
      "metadata": {
        "id": "1YHKwrkicSYo"
      },
      "source": [
        "def is_triangle(ladoa,ladob,ladoc):\n",
        "  ab = ladoa + ladob\n",
        "  bc = ladob + ladoc\n",
        "  ca = ladoc + ladoa\n",
        "  if (ladoc > ab or ladoa > bc or ladob > ca):\n",
        "    print('No')\n",
        "  else:\n",
        "    print('Yes')\n",
        "\n",
        "is_triangle(12,1,1)\n",
        "is_triangle(16,20,30)"
      ],
      "execution_count": null,
      "outputs": []
    },
    {
      "cell_type": "markdown",
      "metadata": {
        "id": "4hQZ8F6scSYq"
      },
      "source": [
        "b) Escreva uma função que peça ao usuário para digitar três comprimentos de gravetos, os converta em números inteiros e use `is_triangle` para verificar se os gravetos com os comprimentos dados podem formar um triângulo."
      ]
    },
    {
      "cell_type": "code",
      "metadata": {
        "id": "X2L91_R7cSYr"
      },
      "source": [
        "def is_triangle2():\n",
        "  a = int(input(\"Digite o valor do lado a: \"))\n",
        "  b = int(input(\"Digite o valor do lado b: \"))\n",
        "  c = int(input(\"Digite o valor do lado c: \"))\n",
        "  is_triangle(a,b,c)\n",
        "\n",
        "is_triangle2()"
      ],
      "execution_count": null,
      "outputs": []
    },
    {
      "cell_type": "markdown",
      "metadata": {
        "id": "yHZFUnB-cSYu"
      },
      "source": [
        "---\n",
        "\n",
        "## Quais são as outras formas de praticar esses conceitos?\n",
        "\n",
        "<img src=\"https://media.giphy.com/media/LqZZp4y9ANZIcQzuXC/giphy.gif\" align=\"left\">"
      ]
    },
    {
      "cell_type": "code",
      "metadata": {
        "id": "4a8Rc4A1cSYu"
      },
      "source": [
        "<Adicionar atividade de sua preferência para aplicação dos conceitos>"
      ],
      "execution_count": null,
      "outputs": []
    },
    {
      "cell_type": "code",
      "metadata": {
        "id": "RlJCyVkWco28"
      },
      "source": [
        "def paridade(a):\n",
        "  if (a % 2) == 0:\n",
        "    print('par')\n",
        "  else:\n",
        "    print('ímpar')\n",
        "\n",
        "paridade(5)\n",
        "paridade(2)"
      ],
      "execution_count": null,
      "outputs": []
    },
    {
      "cell_type": "code",
      "metadata": {
        "id": "4ZOwaEHectZK"
      },
      "source": [
        "  import math\n",
        "\n",
        "  delta = (b ** 2) - (4 * ( a * c ))\n",
        "\n",
        "  if delta < 0:\n",
        "      print(\"esta equação não possui raízes reais\")\n",
        "  else:\n",
        "      raiz1 = (-b + math.sqrt(delta)) / (2 * a)\n",
        "      if delta == 0:\n",
        "          print(\"a raiz desta equação é\", raiz1)\n",
        "      else:\n",
        "          raiz2 = (-b - math.sqrt(delta)) / (2 * a)\n",
        "          if (raiz1 < raiz2):\n",
        "              print(\"as raízes da equação são\", raiz1, \"e\", raiz2)\n",
        "          else:\n",
        "              print(\"as raízes da equação são\", raiz2, \"e\", raiz1)\n",
        "\n",
        "bhaskara(5,3,5)\n",
        "bhaskara(1,-1,-6)\n",
        "bhaskara(1,-2,1)"
      ],
      "execution_count": null,
      "outputs": []
    },
    {
      "cell_type": "code",
      "metadata": {
        "id": "JV_KHe9BcvVV"
      },
      "source": [
        "def is_triangle3(ladoa,ladob,ladoc):\n",
        "  result = 'No' if((ladoc > ladoa + ladob) or (ladoa > ladob + ladoc) or (ladob > ladoc + ladoa)) else 'Yes'\n",
        "  print(result)\n",
        "\n",
        "is_triangle3(1,2,3)"
      ],
      "execution_count": null,
      "outputs": []
    }
  ]
}