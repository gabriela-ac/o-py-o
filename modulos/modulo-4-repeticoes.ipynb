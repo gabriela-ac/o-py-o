{
  "nbformat": 4,
  "nbformat_minor": 0,
  "metadata": {
    "kernelspec": {
      "display_name": "Python 3",
      "language": "python",
      "name": "python3"
    },
    "language_info": {
      "codemirror_mode": {
        "name": "ipython",
        "version": 3
      },
      "file_extension": ".py",
      "mimetype": "text/x-python",
      "name": "python",
      "nbconvert_exporter": "python",
      "pygments_lexer": "ipython3",
      "version": "3.6.10"
    },
    "colab": {
      "name": "modulo-4-repeticoes.ipynb",
      "provenance": []
    }
  },
  "cells": [
    {
      "cell_type": "markdown",
      "metadata": {
        "id": "sJTYd9JPhY_6"
      },
      "source": [
        "<img src=\"https://github.com/gabriela-ac/o-py-o/blob/master/imagens/4.png?raw=1\">\n",
        "\n",
        "## Revisando o conteúdo da semana!"
      ]
    },
    {
      "cell_type": "markdown",
      "metadata": {
        "id": "Y3wN1_0JhY__"
      },
      "source": [
        "1 - A função integrada eval toma uma string e a avalia, usando o interpretador do Python. Por exemplo:"
      ]
    },
    {
      "cell_type": "code",
      "metadata": {
        "id": "wEhIJjZYhZAG",
        "outputId": "29f6ed4b-2ccb-46b7-b428-7670702b34c1",
        "colab": {
          "base_uri": "https://localhost:8080/",
          "height": 34
        }
      },
      "source": [
        "eval('1 + 2 * 3')"
      ],
      "execution_count": 2,
      "outputs": [
        {
          "output_type": "execute_result",
          "data": {
            "text/plain": [
              "7"
            ]
          },
          "metadata": {
            "tags": []
          },
          "execution_count": 2
        }
      ]
    },
    {
      "cell_type": "code",
      "metadata": {
        "id": "_jKX9L9LhZAY"
      },
      "source": [
        "import math"
      ],
      "execution_count": 1,
      "outputs": []
    },
    {
      "cell_type": "code",
      "metadata": {
        "id": "4Q0Bu-F2hZAj",
        "outputId": "19537515-6eff-4032-f9a6-bdccb76cd458",
        "colab": {
          "base_uri": "https://localhost:8080/",
          "height": 34
        }
      },
      "source": [
        "eval('math.sqrt(5)')"
      ],
      "execution_count": 3,
      "outputs": [
        {
          "output_type": "execute_result",
          "data": {
            "text/plain": [
              "2.23606797749979"
            ]
          },
          "metadata": {
            "tags": []
          },
          "execution_count": 3
        }
      ]
    },
    {
      "cell_type": "code",
      "metadata": {
        "id": "sQkJn9yEhZAn",
        "outputId": "978a0923-63dc-4f12-a948-d2848c8548ab",
        "colab": {
          "base_uri": "https://localhost:8080/",
          "height": 34
        }
      },
      "source": [
        "eval('type(math.pi)')"
      ],
      "execution_count": 4,
      "outputs": [
        {
          "output_type": "execute_result",
          "data": {
            "text/plain": [
              "float"
            ]
          },
          "metadata": {
            "tags": []
          },
          "execution_count": 4
        }
      ]
    },
    {
      "cell_type": "markdown",
      "metadata": {
        "id": "0TaNOokGhZAr"
      },
      "source": [
        "Escreva uma função chamada `eval_loop` que iterativamente peça uma entrada ao usuário, a avalie usando eval e exiba o resultado.\n",
        "\n",
        "Ela deve continuar até que o usuário digite **done**; então deverá exibir o valor da última expressão avaliada."
      ]
    },
    {
      "cell_type": "code",
      "metadata": {
        "id": "BdRrLM12hZAr"
      },
      "source": [
        "def eval_loop():\n",
        "  word = input()\n",
        "\n",
        "  while word != 'done':\n",
        "    print(eval(word))\n",
        "    word = input()\n",
        "\n",
        "eval_loop()\n",
        "\n"
      ],
      "execution_count": 7,
      "outputs": []
    },
    {
      "cell_type": "markdown",
      "metadata": {
        "id": "_CoG1PUghZAx"
      },
      "source": [
        "2 - Há um método de string chamado `count`, que é semelhante à função em “Loop e contagem”. O count sempre acompanhado de uma string, tem como objetivo contar um caracter ou um conjunto de caracteres de uma string. Escreva uma invocação que conte o número de letras **'a'** em **‘banana’**."
      ]
    },
    {
      "cell_type": "code",
      "metadata": {
        "id": "Vosq0cAUhZAy",
        "outputId": "dae00f0a-dc98-447d-8f7a-f13c9f0ebce7",
        "colab": {
          "base_uri": "https://localhost:8080/",
          "height": 34
        }
      },
      "source": [
        "def count_string(word):\n",
        "  print(word.count('a'))\n",
        "\n",
        "count_string('banana')\n",
        "\n",
        "# def count_string(word):\n",
        "#   count = 0\n",
        "#   for letter in word:\n",
        "#     if letter == 'a':\n",
        "#       count += 1\n",
        "\n",
        "#   print(count)\n",
        "\n",
        "# count_string('banana')\n"
      ],
      "execution_count": 8,
      "outputs": [
        {
          "output_type": "stream",
          "text": [
            "3\n"
          ],
          "name": "stdout"
        }
      ]
    },
    {
      "cell_type": "markdown",
      "metadata": {
        "id": "DR1H9zs7hZA1"
      },
      "source": [
        "3 - As seguintes funções pretendem verificar se uma string contém alguma letra minúscula, mas algumas delas estão erradas. Para cada função, identifique o que ela faz (assumindo que o parâmetro seja uma string)."
      ]
    },
    {
      "cell_type": "code",
      "metadata": {
        "id": "P3vMn7aAhZA2"
      },
      "source": [
        "def any_lowercase1(s):\n",
        "    for c in s:\n",
        "        if c.islower():\n",
        "            return True\n",
        "        else:\n",
        "            return False"
      ],
      "execution_count": null,
      "outputs": []
    },
    {
      "cell_type": "code",
      "metadata": {
        "id": "sDP58uR0hZA8"
      },
      "source": [
        ""
      ],
      "execution_count": null,
      "outputs": []
    },
    {
      "cell_type": "code",
      "metadata": {
        "id": "QLk8TmV1hZBA"
      },
      "source": [
        "def any_lowercase2(s):\n",
        "    for c in s:\n",
        "        if 'c'.islower():\n",
        "            return 'True'\n",
        "        else:\n",
        "            return 'False'"
      ],
      "execution_count": null,
      "outputs": []
    },
    {
      "cell_type": "code",
      "metadata": {
        "id": "W5EuAe7DhZBF"
      },
      "source": [
        ""
      ],
      "execution_count": null,
      "outputs": []
    },
    {
      "cell_type": "code",
      "metadata": {
        "id": "ZmtLwWyHhZBK"
      },
      "source": [
        "def any_lowercase3(s):\n",
        "    for c in s:\n",
        "        flag = c.islower()\n",
        "    return flag"
      ],
      "execution_count": null,
      "outputs": []
    },
    {
      "cell_type": "code",
      "metadata": {
        "id": "yqL581CUhZBN"
      },
      "source": [
        ""
      ],
      "execution_count": null,
      "outputs": []
    },
    {
      "cell_type": "code",
      "metadata": {
        "id": "ySTxUKmqhZBR"
      },
      "source": [
        "def any_lowercase4(s):\n",
        "    flag = False\n",
        "    for c in s:\n",
        "        flag = flag or c.islower()\n",
        "    return flag"
      ],
      "execution_count": null,
      "outputs": []
    },
    {
      "cell_type": "code",
      "metadata": {
        "id": "ZAmSGsSthZBW"
      },
      "source": [
        ""
      ],
      "execution_count": null,
      "outputs": []
    },
    {
      "cell_type": "code",
      "metadata": {
        "id": "P3WTR7S8hZBd"
      },
      "source": [
        "def any_lowercase5(s):\n",
        "    for c in s:\n",
        "        if not c.islower():\n",
        "            return False\n",
        "    return True"
      ],
      "execution_count": null,
      "outputs": []
    },
    {
      "cell_type": "code",
      "metadata": {
        "id": "_YqcaQa_hZBg"
      },
      "source": [
        ""
      ],
      "execution_count": null,
      "outputs": []
    },
    {
      "cell_type": "markdown",
      "metadata": {
        "id": "dHtJiFObhZBj"
      },
      "source": [
        "---\n",
        "\n",
        "## Quais são as outras formas de praticar esses conceitos?\n",
        "\n",
        "<img src=\"https://media.giphy.com/media/3gPLPJzFi8a3vhLTtw/giphy.gif\" align=\"left\">"
      ]
    },
    {
      "cell_type": "markdown",
      "metadata": {
        "id": "Uq9MkTeXhZBk"
      },
      "source": [
        "<Adicionar atividade de sua preferência para aplicação dos conceitos>"
      ]
    },
    {
      "cell_type": "code",
      "metadata": {
        "id": "OD3tvphksNWf"
      },
      "source": [
        "# numero = [0,1,2,3,4,5,6,7,8,9]\n",
        "\n",
        "def count_sum(numero):\n",
        "  count = 0\n",
        "  for valor in range(numero):\n",
        "    count = count + valor\n",
        "\n",
        "  return count\n",
        "\n",
        "print(count_sum(10))\n",
        "  "
      ],
      "execution_count": null,
      "outputs": []
    }
  ]
}